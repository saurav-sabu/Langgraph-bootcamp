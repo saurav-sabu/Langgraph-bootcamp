{
  "nbformat": 4,
  "nbformat_minor": 0,
  "metadata": {
    "colab": {
      "provenance": []
    },
    "kernelspec": {
      "name": "python3",
      "display_name": "Python 3"
    },
    "language_info": {
      "name": "python"
    }
  },
  "cells": [
    {
      "cell_type": "markdown",
      "source": [
        "# Install required libraries quietly (without verbose output)\n"
      ],
      "metadata": {
        "id": "wxhCcnIyABaZ"
      }
    },
    {
      "cell_type": "code",
      "execution_count": 1,
      "metadata": {
        "id": "17_y39vt9_Jx",
        "colab": {
          "base_uri": "https://localhost:8080/"
        },
        "outputId": "89c769d1-5c1c-47c3-e5c4-3226a7dfa566"
      },
      "outputs": [
        {
          "output_type": "stream",
          "name": "stdout",
          "text": [
            "\u001b[2K   \u001b[90m━━━━━━━━━━━━━━━━━━━━━━━━━━━━━━━━━━━━━━━━\u001b[0m \u001b[32m151.4/151.4 kB\u001b[0m \u001b[31m4.4 MB/s\u001b[0m eta \u001b[36m0:00:00\u001b[0m\n",
            "\u001b[2K   \u001b[90m━━━━━━━━━━━━━━━━━━━━━━━━━━━━━━━━━━━━━━━━\u001b[0m \u001b[32m2.5/2.5 MB\u001b[0m \u001b[31m20.6 MB/s\u001b[0m eta \u001b[36m0:00:00\u001b[0m\n",
            "\u001b[2K   \u001b[90m━━━━━━━━━━━━━━━━━━━━━━━━━━━━━━━━━━━━━━━━\u001b[0m \u001b[32m121.9/121.9 kB\u001b[0m \u001b[31m2.9 MB/s\u001b[0m eta \u001b[36m0:00:00\u001b[0m\n",
            "\u001b[2K   \u001b[90m━━━━━━━━━━━━━━━━━━━━━━━━━━━━━━━━━━━━━━━━\u001b[0m \u001b[32m45.4/45.4 kB\u001b[0m \u001b[31m2.0 MB/s\u001b[0m eta \u001b[36m0:00:00\u001b[0m\n",
            "\u001b[2K   \u001b[90m━━━━━━━━━━━━━━━━━━━━━━━━━━━━━━━━━━━━━━━━\u001b[0m \u001b[32m50.9/50.9 kB\u001b[0m \u001b[31m1.9 MB/s\u001b[0m eta \u001b[36m0:00:00\u001b[0m\n",
            "\u001b[?25h"
          ]
        }
      ],
      "source": [
        "! pip install -q langgraph langchain-core langchain-community langchain-groq"
      ]
    },
    {
      "cell_type": "markdown",
      "source": [
        "# Import necessary modules"
      ],
      "metadata": {
        "id": "tEV0ZLmHAF7T"
      }
    },
    {
      "cell_type": "code",
      "source": [
        "from typing_extensions import TypedDict\n",
        "from langgraph.graph import StateGraph, START, END\n",
        "from pydantic import BaseModel"
      ],
      "metadata": {
        "id": "KOEJVbWr_YhF"
      },
      "execution_count": 2,
      "outputs": []
    },
    {
      "cell_type": "code",
      "source": [
        "# Define a state model using Pydantic to enforce type constraints\n",
        "class OverallState(BaseModel):\n",
        "    a: str\n",
        "\n",
        "\n",
        "# Define a function (node) that modifies the state\n",
        "# It receives the current state and returns a new state with updated value\n",
        "def node(state:OverallState):\n",
        "  return {\"a\":\"Hi i am saurav\"} # Overrides 'a' with a new string"
      ],
      "metadata": {
        "id": "qizDGOPF_tkG"
      },
      "execution_count": 3,
      "outputs": []
    },
    {
      "cell_type": "code",
      "source": [
        "# Create a StateGraph object with the defined state model\n",
        "builder = StateGraph(OverallState)\n",
        "\n",
        "# Add a node to the graph and link it to the function\n",
        "builder.add_node(\"node\",node)\n",
        "\n",
        "# Define the flow of execution in the graph\n",
        "builder.add_edge(START,\"node\")\n",
        "builder.add_edge(\"node\",END)\n",
        "\n",
        "# Compile the graph for execution\n",
        "graph = builder.compile()\n",
        "graph"
      ],
      "metadata": {
        "colab": {
          "base_uri": "https://localhost:8080/",
          "height": 251
        },
        "id": "haXHVQie_7Tg",
        "outputId": "8c6536c2-8068-4ed2-f227-eb5d373675d8"
      },
      "execution_count": 4,
      "outputs": [
        {
          "output_type": "execute_result",
          "data": {
            "text/plain": [
              "<langgraph.graph.state.CompiledStateGraph object at 0x7b237806ef90>"
            ],
            "image/png": "[encoded data removed]"
          },
          "metadata": {},
          "execution_count": 4
        }
      ]
    },
    {
      "cell_type": "code",
      "source": [
        "# Invoke the graph with an initial state\n",
        "graph.invoke({\"a\":\"Hello\"})"
      ],
      "metadata": {
        "colab": {
          "base_uri": "https://localhost:8080/"
        },
        "id": "WulZuAkKANDn",
        "outputId": "59347d82-af3c-4f14-91b7-77f33d2cd72d"
      },
      "execution_count": 5,
      "outputs": [
        {
          "output_type": "execute_result",
          "data": {
            "text/plain": [
              "{'a': 'Hi i am saurav'}"
            ]
          },
          "metadata": {},
          "execution_count": 5
        }
      ]
    },
    {
      "cell_type": "code",
      "source": [
        "# Try invoking the graph with an incorrect data type (integer instead of string)\n",
        "try:\n",
        "  graph.invoke({\"a\":1})\n",
        "except Exception as e:\n",
        "  print(\"Raised exception because a value is integer\\n\",e)"
      ],
      "metadata": {
        "colab": {
          "base_uri": "https://localhost:8080/"
        },
        "id": "x1rXRjFJAZAG",
        "outputId": "63a03ce2-541d-453d-9859-2d5f8cc1b098"
      },
      "execution_count": 6,
      "outputs": [
        {
          "output_type": "stream",
          "name": "stdout",
          "text": [
            "Raised exception because a value is integer\n",
            " 1 validation error for OverallState\n",
            "a\n",
            "  Input should be a valid string [type=string_type, input_value=1, input_type=int]\n",
            "    For further information visit https://errors.pydantic.dev/2.10/v/string_type\n"
          ]
        }
      ]
    },
    {
      "cell_type": "markdown",
      "source": [
        "### Explaining\n",
        "1. LangGraph applies validation when a node receives an input.\n",
        "2. `bad_node` produces an invalid state (\"a\": 123), but this is not checked immediately.\n",
        "3. When ok_node receives the bad state, it fails validation, causing an error.\n"
      ],
      "metadata": {
        "id": "kzKEnp-rB8WW"
      }
    },
    {
      "cell_type": "markdown",
      "source": [
        "# Multiple Nodes- Run time validation\n",
        "\n",
        "Run-time validation will also work in a multi-node graph. In the example below bad_node updates a to an integer.\n",
        "\n",
        "Because run-time validation occurs on inputs, the validation error will occur when ok_node is called (not when bad_node returns an update to the state which is inconsistent with the schema)."
      ],
      "metadata": {
        "id": "pOpRD6_wFMv2"
      }
    },
    {
      "cell_type": "markdown",
      "source": [
        "# Import necessary libraries\n"
      ],
      "metadata": {
        "id": "xvAsGBwoA9eJ"
      }
    },
    {
      "cell_type": "code",
      "source": [
        "from typing_extensions import TypedDict\n",
        "from langgraph.graph import StateGraph, START, END\n",
        "from pydantic import BaseModel"
      ],
      "metadata": {
        "id": "1MGyqGGbraRY"
      },
      "execution_count": 7,
      "outputs": []
    },
    {
      "cell_type": "code",
      "source": [
        "# Define the overall state schema using Pydantic\n",
        "class OverallState(BaseModel):\n",
        "  a:str\n",
        "\n",
        "# Define a node that incorrectly assigns an integer to 'a'\n",
        "def bad_node(state:OverallState):\n",
        "  return {\n",
        "      \"a\":123\n",
        "  }\n",
        "\n",
        "# Define a node that correctly assigns a string to 'a'\n",
        "def ok_node(state:OverallState):\n",
        "  return {\n",
        "      \"a\":\"goobye\"\n",
        "  }"
      ],
      "metadata": {
        "id": "VoKPIlNGAbCU"
      },
      "execution_count": 8,
      "outputs": []
    },
    {
      "cell_type": "code",
      "source": [
        "# Create a StateGraph object with the defined schema\n",
        "builder = StateGraph(OverallState)\n",
        "\n",
        "# Add nodes to the graph\n",
        "builder.add_node(\"bad_node\",bad_node)\n",
        "builder.add_node(\"ok_node\",ok_node)\n",
        "\n",
        "# Define the flow of execution in the graph\n",
        "builder.add_edge(START,\"bad_node\")\n",
        "builder.add_edge(\"bad_node\",\"ok_node\")\n",
        "builder.add_edge(\"ok_node\",END)\n",
        "\n",
        "# Compile the graph\n",
        "graph = builder.compile()\n",
        "graph"
      ],
      "metadata": {
        "colab": {
          "base_uri": "https://localhost:8080/",
          "height": 350
        },
        "id": "W9WtOM1JFj8U",
        "outputId": "4ec30c42-b416-464a-e393-6fe5ab025650"
      },
      "execution_count": 9,
      "outputs": [
        {
          "output_type": "execute_result",
          "data": {
            "text/plain": [
              "<langgraph.graph.state.CompiledStateGraph object at 0x7b23780b8f90>"
            ],
            "image/png": "[encoded data removed]"
          },
          "metadata": {},
          "execution_count": 9
        }
      ]
    },
    {
      "cell_type": "code",
      "source": [
        "# Try running the graph with a valid initial state\n",
        "try:\n",
        "  graph.invoke({\"a\":\"Hello\"})\n",
        "except Exception as e:\n",
        "  # An error occurs because 'bad_node' outputs an integer instead of a string\n",
        "  print(e)"
      ],
      "metadata": {
        "colab": {
          "base_uri": "https://localhost:8080/"
        },
        "id": "veMZ68v-Ft5r",
        "outputId": "ea029af7-8a17-4674-d5ae-0fcec5227bca"
      },
      "execution_count": 10,
      "outputs": [
        {
          "output_type": "stream",
          "name": "stdout",
          "text": [
            "1 validation error for OverallState\n",
            "a\n",
            "  Input should be a valid string [type=string_type, input_value=123, input_type=int]\n",
            "    For further information visit https://errors.pydantic.dev/2.10/v/string_type\n"
          ]
        }
      ]
    },
    {
      "cell_type": "markdown",
      "source": [
        "### Explanation:\n",
        "1. **Schema Validation:** `OverallState` enforces that `a` should always be a string.\n",
        "2. **Node Execution:**\n",
        "   - `bad_node` wrongly assigns an integer (`123`) to `a`, violating the schema.\n",
        "   - The validation doesn't fail immediately because `bad_node` itself is not checked.\n",
        "   - The failure happens when `ok_node` tries to use the updated state and encounters an invalid type.\n",
        "3. **Error Handling:** When the graph is invoked, a `ValidationError` is raised when `ok_node` receives the bad state.\n",
        "\n",
        "Let me know if you need further refinements! 🚀"
      ],
      "metadata": {
        "id": "o_3hqwjPBcja"
      }
    },
    {
      "cell_type": "markdown",
      "source": [
        "# Prompt Chaining\n",
        "Prompt chaining decomposes a task into a sequence of steps, where each LLM call processes the output of the previous one. You can add programmatic checks on any intermediate steps to ensure that the process is still on track.\n",
        "\n",
        "When to use this workflow: This workflow is ideal for situations where the task can be easily and cleanly decomposed into fixed subtasks. The main goal is to trade off latency for higher accuracy, by making each LLM call an easier task."
      ],
      "metadata": {
        "id": "MDmTC3F6HxuQ"
      }
    },
    {
      "cell_type": "code",
      "source": [
        "import os\n",
        "from langchain_groq import ChatGroq\n",
        "from google.colab import userdata\n",
        "from typing_extensions import TypedDict\n",
        "from langgraph.graph import StateGraph, START, END"
      ],
      "metadata": {
        "id": "hppM68r4I_7Z"
      },
      "execution_count": 11,
      "outputs": []
    },
    {
      "cell_type": "code",
      "source": [
        "GROQ_API_KEY = userdata.get('GROQ_API_KEY')\n",
        "\n",
        "os.environ[\"GROQ_API_KEY\"] = GROQ_API_KEY"
      ],
      "metadata": {
        "id": "Q8noJ454JEug"
      },
      "execution_count": 12,
      "outputs": []
    },
    {
      "cell_type": "code",
      "source": [
        "llm = ChatGroq(model=\"qwen-2.5-32b\")"
      ],
      "metadata": {
        "id": "pSb1woVKJenm"
      },
      "execution_count": 13,
      "outputs": []
    },
    {
      "cell_type": "code",
      "source": [
        "class State(TypedDict):\n",
        "  topic:str\n",
        "  joke:str\n",
        "  improved_joke:str\n",
        "  final_joke:str"
      ],
      "metadata": {
        "id": "DF53ZqRUFzWw"
      },
      "execution_count": 14,
      "outputs": []
    },
    {
      "cell_type": "code",
      "source": [
        "def generate_joke(state:State):\n",
        "  '''\n",
        "  LLM call to generate initial joke\n",
        "  '''\n",
        "  msg = llm.invoke(f\"Write a short joke about {state['topic']}\")\n",
        "  return {\"joke\":msg.content}\n",
        "\n",
        "\n",
        "def check_punchline(state:State):\n",
        "  '''\n",
        "  check if the joke has a punchline\n",
        "  '''\n",
        "  if \"?\" in state[\"joke\"] or \"!\" in state[\"joke\"]:\n",
        "    return \"Fail\"\n",
        "  else:\n",
        "    return \"Pass\"\n",
        "\n",
        "\n",
        "def improve_joke(state:State):\n",
        "  '''\n",
        "  LLM call to improve the joke\n",
        "  '''\n",
        "  msg = llm.invoke(f\"Improve the following joke by adding wordplay: {state['joke']}\")\n",
        "  return {\"improved_joke\":msg.content}\n",
        "\n",
        "\n",
        "def polish_joke(state:State):\n",
        "  '''\n",
        "  LLM call for final polish\n",
        "  '''\n",
        "  msg = llm.invoke(f\"Add a surprising twist to this joke: {state['improved_joke']}\")\n",
        "  return {\"final_joke\":msg.content}\n"
      ],
      "metadata": {
        "id": "JaspCim3Ixmk"
      },
      "execution_count": 15,
      "outputs": []
    },
    {
      "cell_type": "code",
      "source": [
        "workflow = StateGraph(State)\n",
        "\n",
        "workflow.add_node(\"generate_joke\",generate_joke)\n",
        "workflow.add_node(\"improve_joke\",improve_joke)\n",
        "workflow.add_node(\"polish_joke\",polish_joke)\n",
        "\n",
        "workflow.add_edge(START,\"generate_joke\")\n",
        "workflow.add_conditional_edges(\"generate_joke\",check_punchline,{\"Fail\":\"improve_joke\",\"Pass\":END})\n",
        "workflow.add_edge(\"improve_joke\",\"polish_joke\")\n",
        "workflow.add_edge(\"polish_joke\",END)\n",
        "\n",
        "\n",
        "graph = workflow.compile()\n",
        "graph"
      ],
      "metadata": {
        "colab": {
          "base_uri": "https://localhost:8080/",
          "height": 497
        },
        "id": "vvPqDwBxK_11",
        "outputId": "da060076-c947-447c-d7b3-cb6008ba8102"
      },
      "execution_count": 16,
      "outputs": [
        {
          "output_type": "execute_result",
          "data": {
            "text/plain": [
              "<langgraph.graph.state.CompiledStateGraph object at 0x7b236760cb10>"
            ],
            "image/png": "[encoded data removed]"
          },
          "metadata": {},
          "execution_count": 16
        }
      ]
    },
    {
      "cell_type": "code",
      "source": [
        "graph.invoke({\"topic\":\"cats\"})"
      ],
      "metadata": {
        "colab": {
          "base_uri": "https://localhost:8080/"
        },
        "id": "XEFdCekhLggn",
        "outputId": "67590032-0466-4617-c589-d376b5bc0ad9"
      },
      "execution_count": 17,
      "outputs": [
        {
          "output_type": "execute_result",
          "data": {
            "text/plain": [
              "{'topic': 'cats',\n",
              " 'joke': \"Why don't cats play poker in the wild? Because there are too many cheetahs!\",\n",
              " 'improved_joke': \"Why don't cats play poker in the wild? Because every game gets clawsed when there are cheetahs afoot!\",\n",
              " 'final_joke': \"Why don't cats play poker in the wild? Because every game gets clawsed when there are cheetahs afoot, especially when the cheetahs are actually expert card cheats, always dealing themselves the winning hand!\"}"
            ]
          },
          "metadata": {},
          "execution_count": 17
        }
      ]
    },
    {
      "cell_type": "markdown",
      "source": [
        "# Parallelization\n",
        "With parallelization, LLMs work simultaneously on a task:\n",
        "\n",
        "LLMs can sometimes work simultaneously on a task and have their outputs aggregated programmatically. This workflow, parallelization, manifests in two key variations: Sectioning: Breaking a task into independent subtasks run in parallel. Voting: Running the same task multiple times to get diverse outputs.\n",
        "\n",
        "When to use this workflow: Parallelization is effective when the divided subtasks can be parallelized for speed, or when multiple perspectives or attempts are needed for higher confidence results. For complex tasks with multiple considerations, LLMs generally perform better when each consideration is handled by a separate LLM call, allowing focused attention on each specific aspect."
      ],
      "metadata": {
        "id": "H-NGB8KdRyWr"
      }
    },
    {
      "cell_type": "code",
      "source": [
        "from typing_extensions import TypedDict\n",
        "from langgraph.graph import StateGraph, START, END"
      ],
      "metadata": {
        "id": "51z9ixSpri-7"
      },
      "execution_count": 18,
      "outputs": []
    },
    {
      "cell_type": "code",
      "source": [
        "class State(TypedDict):\n",
        "  topic:str\n",
        "  joke:str\n",
        "  story:str\n",
        "  poem:str\n",
        "  combined_output:str\n",
        "\n",
        "\n",
        "def generate_joke(state:State):\n",
        "  '''\n",
        "  LLM call to generate initial joke\n",
        "  '''\n",
        "  msg = llm.invoke(f\"Write a short joke about {state['topic']}\")\n",
        "  return {\"joke\":msg.content}\n",
        "\n",
        "def generate_story(state:State):\n",
        "  '''\n",
        "  LLM call to generate initial story\n",
        "  '''\n",
        "  msg = llm.invoke(f\"Write a short story about {state['topic']}\")\n",
        "  return {\"story\":msg.content}\n",
        "\n",
        "def generate_poem(state:State):\n",
        "  '''\n",
        "  LLM call to generate initial poem\n",
        "  '''\n",
        "  msg = llm.invoke(f\"Write a short poem about {state['topic']}\")\n",
        "  return {\"poem\":msg.content}\n",
        "\n",
        "def aggregator(state:State):\n",
        "  '''\n",
        "  Combine the joke, story and poem into a single output\n",
        "  '''\n",
        "  combined = f\"Here's a story, joke and poem about {state['topic']}\\n\\n\"\n",
        "  combined += f\"Story: {state['story']}\\n\\n\"\n",
        "  combined += f\"Joke: {state['joke']}\\n\\n\"\n",
        "  combined += f\"Poem: {state['poem']}\\n\\n\"\n",
        "  return {\"combined_output\":combined}\n"
      ],
      "metadata": {
        "id": "N8eQKcNBNITu"
      },
      "execution_count": 19,
      "outputs": []
    },
    {
      "cell_type": "code",
      "source": [
        "parallel_builder = StateGraph(State)\n",
        "\n",
        "parallel_builder.add_node(\"generate_joke\",generate_joke)\n",
        "parallel_builder.add_node(\"generate_story\",generate_story)\n",
        "parallel_builder.add_node(\"generate_poem\",generate_poem)\n",
        "parallel_builder.add_node(\"aggregator\",aggregator)\n",
        "\n",
        "parallel_builder.add_edge(START,\"generate_joke\")\n",
        "parallel_builder.add_edge(START,\"generate_story\")\n",
        "parallel_builder.add_edge(START,\"generate_poem\")\n",
        "\n",
        "parallel_builder.add_edge(\"generate_joke\",\"aggregator\")\n",
        "parallel_builder.add_edge(\"generate_story\",\"aggregator\")\n",
        "parallel_builder.add_edge(\"generate_poem\",\"aggregator\")\n",
        "\n",
        "parallel_builder.add_edge(\"aggregator\",END)\n",
        "\n",
        "parallel_graph = parallel_builder.compile()\n",
        "parallel_graph"
      ],
      "metadata": {
        "colab": {
          "base_uri": "https://localhost:8080/",
          "height": 350
        },
        "id": "QwYdpOH6S7Mv",
        "outputId": "c011d972-8ccf-493c-fb14-fa87816f7fd1"
      },
      "execution_count": 20,
      "outputs": [
        {
          "output_type": "execute_result",
          "data": {
            "text/plain": [
              "<langgraph.graph.state.CompiledStateGraph object at 0x7b23675b1590>"
            ],
            "image/png": "[encoded data removed]"
          },
          "metadata": {},
          "execution_count": 20
        }
      ]
    },
    {
      "cell_type": "code",
      "source": [
        "parallel_graph.invoke({\"topic\":\"cats\"})"
      ],
      "metadata": {
        "colab": {
          "base_uri": "https://localhost:8080/"
        },
        "id": "pARmC1HITGl_",
        "outputId": "a8729be6-3d30-47cb-de29-f9fa4457eb69"
      },
      "execution_count": 21,
      "outputs": [
        {
          "output_type": "execute_result",
          "data": {
            "text/plain": [
              "{'topic': 'cats',\n",
              " 'joke': \"Why don't cats play poker in the wild? Because there are too many cheetahs!\",\n",
              " 'story': 'In the quiet little town of Willowbrook, nestled between sprawling forests and a serene river, there lived a group of cats who were as much a part of the town\\'s charm as its picturesque landscapes. These weren\\'t your average cats. They were known for their adventurous spirits and peculiar behaviors, which often left the townsfolk with stories to tell.\\n\\nAmong them was a black cat named Midnight, who was known for her mysterious ways. Midnight would often disappear for days, only to return with tales of far-off lands, spun from the whispers of the wind. The townsfolk, who were used to her stories, would gather around her, their eyes wide with wonder.\\n\\nOne sunny afternoon, as the heat of the day was settling, Midnight gathered her friends: Fluffy, a white cat with a heart of gold; Stripe, a sleek silver cat with stripes as bold as his personality; and Whiskers, a small but feisty tabby cat with a knack for mischief. Midnight had an adventure in mind.\\n\\n\"Tonight,\" Midnight began, her voice a low purr that carried in the air, \"we venture into the old Willowbrook mansion. They say it\\'s haunted, but I think there\\'s more to it.\"\\n\\nThe others exchanged glances, excitement mingling with a tinge of fear. \"What\\'s the plan?\" Fluffy asked, her voice a soft murmur, despite the thrill in her eyes.\\n\\nMidnight\\'s eyes glowed with excitement. \"We find the secret passage, and uncover the mystery of the mansion. It\\'s been lost for years, but tonight, we find it.\"\\n\\nAs the sun dipped below the horizon, casting long shadows across the ground, the four cats crept towards the mansion. It was a grand structure, its once-impressive facade now weathered and worn. They slipped inside, their hearts pounding in unison.\\n\\nInside, the mansion was a labyrinth of shadows and whispers. Each step they took was met with the creaking of old wood and the rustle of forgotten papers. After what felt like hours, they found a hidden door, partially concealed by a tapestry. With a push, the door opened to reveal a spiral staircase leading down.\\n\\nAt the bottom, they found a room filled with old books, maps, and a large globe. Among the materials, a diary caught Midnight\\'s eye. As she read, their eyes widened. The mansion was once a haven for explorers, adventurers who would gather to plan their voyages. The secret passage was a way to keep their plans hidden.\\n\\nMidnight read aloud from the diary, \"Our greatest adventure awaits, beyond the veil of the known world. We seek what others have not, and we shall return with tales of wonder and mystery.\"\\n\\nInspired, the group decided to honor the legacy of the mansion\\'s past inhabitants. They would embark on their own adventures, exploring the vast forests and rivers surrounding Willowbrook, and when they returned, they would share their tales with the town.\\n\\nFrom that night on, the cats of Willowbrook were known not just for their mystery, but for the adventures they brought back from the edges of the world. And Midnight\\'s stories, once a mix of imagination and reality, became a blend of their own adventures and the tales of the past.\\n\\nThe townsfolk learned to expect the unexpected from their feline friends, for in the quiet town of Willowbrook, the cats had become the keepers of its most cherished secrets.',\n",
              " 'poem': \"In the moon's soft glow they prowl,\\nSilent shadows, graceful and bold.\\nWhiskers twitch, eyes like green jade,\\nCats, enigmatic and unafraid.\\n\\nPaws padded soft on the night's cool air,\\nThey dance and they play, without a care.\\nIn their gaze, a universe untold,\\nMysteries kept, as secrets are told.\\n\\nSo here's to the cats, both big and small,\\nGuardians of the night, in the light of the hall.\\nMay they purr and play, and grace us with their spell,\\nCats, creatures of charm, and eternal delight to tell.\",\n",
              " 'combined_output': 'Here\\'s a story, joke and poem about cats\\n\\nStory: In the quiet little town of Willowbrook, nestled between sprawling forests and a serene river, there lived a group of cats who were as much a part of the town\\'s charm as its picturesque landscapes. These weren\\'t your average cats. They were known for their adventurous spirits and peculiar behaviors, which often left the townsfolk with stories to tell.\\n\\nAmong them was a black cat named Midnight, who was known for her mysterious ways. Midnight would often disappear for days, only to return with tales of far-off lands, spun from the whispers of the wind. The townsfolk, who were used to her stories, would gather around her, their eyes wide with wonder.\\n\\nOne sunny afternoon, as the heat of the day was settling, Midnight gathered her friends: Fluffy, a white cat with a heart of gold; Stripe, a sleek silver cat with stripes as bold as his personality; and Whiskers, a small but feisty tabby cat with a knack for mischief. Midnight had an adventure in mind.\\n\\n\"Tonight,\" Midnight began, her voice a low purr that carried in the air, \"we venture into the old Willowbrook mansion. They say it\\'s haunted, but I think there\\'s more to it.\"\\n\\nThe others exchanged glances, excitement mingling with a tinge of fear. \"What\\'s the plan?\" Fluffy asked, her voice a soft murmur, despite the thrill in her eyes.\\n\\nMidnight\\'s eyes glowed with excitement. \"We find the secret passage, and uncover the mystery of the mansion. It\\'s been lost for years, but tonight, we find it.\"\\n\\nAs the sun dipped below the horizon, casting long shadows across the ground, the four cats crept towards the mansion. It was a grand structure, its once-impressive facade now weathered and worn. They slipped inside, their hearts pounding in unison.\\n\\nInside, the mansion was a labyrinth of shadows and whispers. Each step they took was met with the creaking of old wood and the rustle of forgotten papers. After what felt like hours, they found a hidden door, partially concealed by a tapestry. With a push, the door opened to reveal a spiral staircase leading down.\\n\\nAt the bottom, they found a room filled with old books, maps, and a large globe. Among the materials, a diary caught Midnight\\'s eye. As she read, their eyes widened. The mansion was once a haven for explorers, adventurers who would gather to plan their voyages. The secret passage was a way to keep their plans hidden.\\n\\nMidnight read aloud from the diary, \"Our greatest adventure awaits, beyond the veil of the known world. We seek what others have not, and we shall return with tales of wonder and mystery.\"\\n\\nInspired, the group decided to honor the legacy of the mansion\\'s past inhabitants. They would embark on their own adventures, exploring the vast forests and rivers surrounding Willowbrook, and when they returned, they would share their tales with the town.\\n\\nFrom that night on, the cats of Willowbrook were known not just for their mystery, but for the adventures they brought back from the edges of the world. And Midnight\\'s stories, once a mix of imagination and reality, became a blend of their own adventures and the tales of the past.\\n\\nThe townsfolk learned to expect the unexpected from their feline friends, for in the quiet town of Willowbrook, the cats had become the keepers of its most cherished secrets.\\n\\nJoke: Why don\\'t cats play poker in the wild? Because there are too many cheetahs!\\n\\nPoem: In the moon\\'s soft glow they prowl,\\nSilent shadows, graceful and bold.\\nWhiskers twitch, eyes like green jade,\\nCats, enigmatic and unafraid.\\n\\nPaws padded soft on the night\\'s cool air,\\nThey dance and they play, without a care.\\nIn their gaze, a universe untold,\\nMysteries kept, as secrets are told.\\n\\nSo here\\'s to the cats, both big and small,\\nGuardians of the night, in the light of the hall.\\nMay they purr and play, and grace us with their spell,\\nCats, creatures of charm, and eternal delight to tell.\\n\\n'}"
            ]
          },
          "metadata": {},
          "execution_count": 21
        }
      ]
    },
    {
      "cell_type": "markdown",
      "source": [
        "# Routing\n",
        "Routing classifies an input and directs it to a specialized followup task. This workflow allows for separation of concerns, and building more specialized prompts. Without this workflow, optimizing for one kind of input can hurt performance on other inputs.\n",
        "\n",
        "When to use this workflow: Routing works well for complex tasks where there are distinct categories that are better handled separately, and where classification can be handled accurately, either by an LLM or a more traditional classification model/algorithm."
      ],
      "metadata": {
        "id": "_PjF3lCaXdSV"
      }
    },
    {
      "cell_type": "markdown",
      "source": [
        "# Import necessary libraries"
      ],
      "metadata": {
        "id": "1fc8QCWsHT-e"
      }
    },
    {
      "cell_type": "code",
      "source": [
        "from typing_extensions import Literal\n",
        "from pydantic import BaseModel, Field\n",
        "from langchain_core.messages import HumanMessage,SystemMessage\n",
        "from typing_extensions import TypedDict\n",
        "from langgraph.graph import StateGraph, START, END"
      ],
      "metadata": {
        "id": "KnIbDrtOTS1s"
      },
      "execution_count": 22,
      "outputs": []
    },
    {
      "cell_type": "code",
      "source": [
        "# Define a data model for routing decisions\n",
        "class Route(BaseModel):\n",
        "  step: Literal[\"poem\",\"story\",\"joke\"] = Field(\n",
        "      None, description=\"The next step in the routing process\"\n",
        "  )"
      ],
      "metadata": {
        "id": "eXORYVwAXyez"
      },
      "execution_count": 23,
      "outputs": []
    },
    {
      "cell_type": "code",
      "source": [
        "# Create an LLM-based router that determines the type of content requested\n",
        "router = llm.with_structured_output(Route)\n",
        "router # This router will classify input into \"poem\", \"story\", or \"joke\""
      ],
      "metadata": {
        "colab": {
          "base_uri": "https://localhost:8080/"
        },
        "id": "I6yzstSCYA3X",
        "outputId": "5a5f355e-460c-4724-ebe5-f11f753b66ab"
      },
      "execution_count": 24,
      "outputs": [
        {
          "output_type": "execute_result",
          "data": {
            "text/plain": [
              "RunnableBinding(bound=ChatGroq(client=<groq.resources.chat.completions.Completions object at 0x7b23678a9650>, async_client=<groq.resources.chat.completions.AsyncCompletions object at 0x7b2367626e90>, model_name='qwen-2.5-32b', model_kwargs={}, groq_api_key=SecretStr('**********')), kwargs={'tools': [{'type': 'function', 'function': {'name': 'Route', 'description': '', 'parameters': {'properties': {'step': {'default': None, 'description': 'The next step in the routing process', 'enum': ['poem', 'story', 'joke'], 'type': 'string'}}, 'type': 'object'}}}], 'structured_output_format': {'kwargs': {'method': 'function_calling'}, 'schema': {'type': 'function', 'function': {'name': 'Route', 'description': '', 'parameters': {'properties': {'step': {'default': None, 'description': 'The next step in the routing process', 'enum': ['poem', 'story', 'joke'], 'type': 'string'}}, 'type': 'object'}}}}, 'tool_choice': {'type': 'function', 'function': {'name': 'Route'}}}, config={}, config_factories=[])\n",
              "| PydanticToolsParser(first_tool_only=True, tools=[<class '__main__.Route'>])"
            ]
          },
          "metadata": {},
          "execution_count": 24
        }
      ]
    },
    {
      "cell_type": "code",
      "source": [
        "# Define the state of the workflow\n",
        "class State(TypedDict):\n",
        "  input:str # User input text\n",
        "  decision:str # The routing decision made by LLM\n",
        "  output:str # The generated output (story, joke, or poem)\n",
        "\n",
        "# Function to generate a story based on user input\n",
        "def generate_story(state:State):\n",
        "  '''Write a story'''\n",
        "  result = llm.invoke(state[\"input\"])\n",
        "  return {\"output\":result.content}\n",
        "\n",
        "\n",
        "# Function to generate a joke based on user input\n",
        "def generate_joke(state:State):\n",
        "  '''Write a joke'''\n",
        "  result = llm.invoke(state[\"input\"])\n",
        "  return {\"output\":result.content}\n",
        "\n",
        "# Function to generate a poem based on user input\n",
        "def generate_poem(state:State):\n",
        "  '''Write a poem'''\n",
        "  result = llm.invoke(state[\"input\"])\n",
        "  return {\"output\":result.content}\n",
        "\n",
        "\n",
        "# Function to route the input to the appropriate function\n",
        "def llm_call_route(state:State):\n",
        "  '''Route the input to the appropriate function'''\n",
        "  decision = router.invoke(\n",
        "      [\n",
        "          SystemMessage(\n",
        "              content=\"Route the input to story, joke, or poem based on user request\"\n",
        "          ),\n",
        "          HumanMessage(\n",
        "              content = state['input']\n",
        "          )\n",
        "      ]\n",
        "  )\n",
        "  return {\"decision\":decision.step} # Return the decision made by the router\n",
        "\n",
        "\n",
        "# Function to determine which function to call based on routing decision\n",
        "def route_decision(state:State):\n",
        "  if state[\"decision\"] == \"story\":\n",
        "    return \"generate_story\"\n",
        "  elif state[\"decision\"] == \"joke\":\n",
        "    return \"generate_joke\"\n",
        "  elif state[\"decision\"] == \"poem\":\n",
        "    return \"generate_poem\""
      ],
      "metadata": {
        "id": "9qyphWvKYFi4"
      },
      "execution_count": 25,
      "outputs": []
    },
    {
      "cell_type": "code",
      "source": [
        "# Create a workflow graph using LangGraph\n",
        "router_builder = StateGraph(State)\n",
        "\n",
        "# Add nodes (functions) to the workflow\n",
        "router_builder.add_node(\"llm_call_route\",llm_call_route) # Decision node\n",
        "router_builder.add_node(\"generate_story\",generate_story)\n",
        "router_builder.add_node(\"generate_joke\",generate_joke)\n",
        "router_builder.add_node(\"generate_poem\",generate_poem)\n",
        "\n",
        "# Define the workflow execution path\n",
        "router_builder.add_edge(START,\"llm_call_route\")\n",
        "\n",
        "# Add conditional edges to route execution to the correct function\n",
        "router_builder.add_conditional_edges(\n",
        "    \"llm_call_route\",\n",
        "    route_decision, # Function that decides which path to take\n",
        "    {\n",
        "        \"generate_story\":\"generate_story\",\n",
        "        \"generate_joke\":\"generate_joke\",\n",
        "        \"generate_poem\":\"generate_poem\"\n",
        "    }\n",
        ")\n",
        "router_builder.add_edge(\"generate_story\",END)\n",
        "router_builder.add_edge(\"generate_joke\",END)\n",
        "router_builder.add_edge(\"generate_poem\",END)\n",
        "\n",
        "# Compile the workflow graph\n",
        "router_graph = router_builder.compile()\n",
        "router_graph"
      ],
      "metadata": {
        "colab": {
          "base_uri": "https://localhost:8080/",
          "height": 350
        },
        "id": "5Q3iP7GcZllq",
        "outputId": "08f78108-4176-4404-bf04-15debcd8d780"
      },
      "execution_count": 26,
      "outputs": [
        {
          "output_type": "execute_result",
          "data": {
            "text/plain": [
              "<langgraph.graph.state.CompiledStateGraph object at 0x7b2367663490>"
            ],
            "image/png": "[encoded data removed]"
          },
          "metadata": {},
          "execution_count": 26
        }
      ]
    },
    {
      "cell_type": "code",
      "source": [
        "# Invoke the workflow with an example input\n",
        "router_graph.invoke({\"input\":\"Write a poem about cats\"})"
      ],
      "metadata": {
        "colab": {
          "base_uri": "https://localhost:8080/"
        },
        "id": "U7I1EXZ_aCfp",
        "outputId": "21e35023-89ae-458f-8fd5-7c698bedb10a"
      },
      "execution_count": 27,
      "outputs": [
        {
          "output_type": "execute_result",
          "data": {
            "text/plain": [
              "{'input': 'Write a poem about cats',\n",
              " 'decision': 'poem',\n",
              " 'output': \"In the twilight's gentle embrace,\\nSilent shadows glide with grace,\\nFeline figures, lithe and sleek,\\nWhiskers twitch in dreams they seek.\\n\\nEyes like lanterns, amber bright,\\nThrough the night they pierce the light,\\nPaws that pad with silent ease,\\nIn the calm, their hunter's tease.\\n\\nMajestic lords of secret places,\\nTales of magic in their faces,\\nFrom the heights of sunlit beams,\\nTo the whispering shadows' dreams.\\n\\nPurring motors, soft and low,\\nComfort's voice in tones they know,\\nLives of mystery and delight,\\nIn each furry creature's sight.\\n\\nSo here's to tails that twist and curl,\\nAnd the tales that cats unfurl,\\nGuardians, mischief-makers, wise,\\nEver in our hearts, they prize.\"}"
            ]
          },
          "metadata": {},
          "execution_count": 27
        }
      ]
    },
    {
      "cell_type": "markdown",
      "source": [
        "## **🔹 Final Workflow Execution Path**\n",
        "1️⃣ **User provides input** → `\"Write a poem about cats\"`  \n",
        "2️⃣ **Routing function determines the category** (`poem`, `story`, or `joke`)  \n",
        "3️⃣ **Workflow follows the appropriate execution path**:\n",
        "   - If `\"poem\"` → Calls `generate_poem`\n",
        "   - If `\"story\"` → Calls `generate_story`\n",
        "   - If `\"joke\"` → Calls `generate_joke`  \n",
        "4️⃣ **LLM generates the output**  \n",
        "5️⃣ **Execution ends, returning the generated content**"
      ],
      "metadata": {
        "id": "L4fiEADbIXmP"
      }
    },
    {
      "cell_type": "markdown",
      "source": [
        "# Evaluator-optimizer\n",
        "In the evaluator-optimizer workflow, one LLM call generates a response while another provides evaluation and feedback in a loop.\n",
        "\n",
        "When to use this workflow: This workflow is particularly effective when we have clear evaluation criteria, and when iterative refinement provides measurable value. The two signs of good fit are, first, that LLM responses can be demonstrably improved when a human articulates their feedback; and second, that the LLM can provide such feedback. This is analogous to the iterative writing process a human writer might go through when producing a polished document."
      ],
      "metadata": {
        "id": "N1LRmGeCr4CP"
      }
    },
    {
      "cell_type": "code",
      "source": [
        "from typing_extensions import Literal\n",
        "from pydantic import BaseModel, Field\n",
        "from langchain_core.messages import HumanMessage,SystemMessage\n",
        "from typing_extensions import TypedDict\n",
        "from langgraph.graph import StateGraph, START, END"
      ],
      "metadata": {
        "id": "OkBHOpIWaHiM"
      },
      "execution_count": 28,
      "outputs": []
    },
    {
      "cell_type": "code",
      "source": [
        "# Define the state dictionary to track joke generation, feedback, and evaluation\n",
        "class State(TypedDict):\n",
        "  joke: str  # Stores the generated joke\n",
        "  topic: str  # Stores the topic for joke generation\n",
        "  feedback: str  # Stores feedback for improving the joke\n",
        "  funny_or_not: str  # Stores evaluation result ('funny' or 'not funny')\n",
        "\n",
        "\n",
        "# Define the evaluation output model\n",
        "class Feedback(BaseModel):\n",
        "  grade: Literal[\"funny\",\"not funny\"] = Field(\n",
        "      description=\"Decide if the joke is funny or not.\"\n",
        "  )\n",
        "\n",
        "  feedback:str = Field(\n",
        "      description=\"If the joke is not funny, Provide feedback on the joke to improve it.\"\n",
        "  )\n",
        "\n",
        "# Initialize the evaluator, which will classify the joke as 'funny' or 'not funny' and provide feedback\n",
        "evaluator = llm.with_structured_output(Feedback)\n",
        "evaluator"
      ],
      "metadata": {
        "colab": {
          "base_uri": "https://localhost:8080/"
        },
        "id": "ntBqfOmMsMsk",
        "outputId": "f3c65665-359d-4f8d-b6db-86824a5b9ce0"
      },
      "execution_count": 29,
      "outputs": [
        {
          "output_type": "execute_result",
          "data": {
            "text/plain": [
              "RunnableBinding(bound=ChatGroq(client=<groq.resources.chat.completions.Completions object at 0x7b23678a9650>, async_client=<groq.resources.chat.completions.AsyncCompletions object at 0x7b2367626e90>, model_name='qwen-2.5-32b', model_kwargs={}, groq_api_key=SecretStr('**********')), kwargs={'tools': [{'type': 'function', 'function': {'name': 'Feedback', 'description': '', 'parameters': {'properties': {'grade': {'description': 'Decide if the joke is funny or not.', 'enum': ['funny', 'not funny'], 'type': 'string'}, 'feedback': {'description': 'If the joke is not funny, Provide feedback on the joke to improve it.', 'type': 'string'}}, 'required': ['grade', 'feedback'], 'type': 'object'}}}], 'structured_output_format': {'kwargs': {'method': 'function_calling'}, 'schema': {'type': 'function', 'function': {'name': 'Feedback', 'description': '', 'parameters': {'properties': {'grade': {'description': 'Decide if the joke is funny or not.', 'enum': ['funny', 'not funny'], 'type': 'string'}, 'feedback': {'description': 'If the joke is not funny, Provide feedback on the joke to improve it.', 'type': 'string'}}, 'required': ['grade', 'feedback'], 'type': 'object'}}}}, 'tool_choice': {'type': 'function', 'function': {'name': 'Feedback'}}}, config={}, config_factories=[])\n",
              "| PydanticToolsParser(first_tool_only=True, tools=[<class '__main__.Feedback'>])"
            ]
          },
          "metadata": {},
          "execution_count": 29
        }
      ]
    },
    {
      "cell_type": "code",
      "source": [
        "def llm_call_generator(state:State):\n",
        "  '''LLM generates a joke'''\n",
        "  if state.get(\"feedback\"): # If feedback exists, refine the joke based on it\n",
        "    msg = llm.invoke(f\"Write a joke about {state['topic']} based on the following feedback: {state['feedback']}\")\n",
        "  else:\n",
        "     # Generate a fresh joke without feedback\n",
        "    msg = llm.invoke(f\"Write a joke about {state['topic']}\")\n",
        "  return {\"joke\":msg.content}\n",
        "\n",
        "def llm_call_evaluator(state:State):\n",
        "  '''LLM evaluates the joke'''\n",
        "  grade = evaluator.invoke(f\"Grade the joke {state['joke']}\")\n",
        "  return {\"funny_or_not\":grade.grade,\"feedback\":grade.feedback} # Return classification and feedback\n",
        "\n",
        "\n",
        "\n",
        "def route_joke(state:State):\n",
        "  if state[\"funny_or_not\"] == \"funny\":\n",
        "    return \"Accepted\"  # If the joke is funny, accept and stop iteration\n",
        "  elif state[\"funny_or_not\"] == \"not funny\":\n",
        "    return \"Rejected + Feedback\"  # If not funny, refine and retry"
      ],
      "metadata": {
        "id": "7XOzhkRPs_dC"
      },
      "execution_count": 30,
      "outputs": []
    },
    {
      "cell_type": "code",
      "source": [
        "# Build the workflow graph\n",
        "builder = StateGraph(State)\n",
        "\n",
        "# Add nodes for joke generation and evaluation\n",
        "builder.add_node(\"llm_call_generator\",llm_call_generator)\n",
        "builder.add_node(\"llm_call_evaluator\",llm_call_evaluator)\n",
        "\n",
        "# Define the workflow sequence\n",
        "builder.add_edge(START,\"llm_call_generator\")\n",
        "builder.add_edge(\"llm_call_generator\",\"llm_call_evaluator\")\n",
        "\n",
        "# Define conditional branching based on evaluation result\n",
        "builder.add_conditional_edges(\n",
        "    \"llm_call_evaluator\",\n",
        "    route_joke,\n",
        "    {\n",
        "        \"Accepted\":END, # If the joke is funny, stop\n",
        "        \"Rejected + Feedback\":\"llm_call_generator\"\n",
        "    }\n",
        ")\n",
        "\n",
        "# Compile the graph\n",
        "graph = builder.compile()\n",
        "graph"
      ],
      "metadata": {
        "colab": {
          "base_uri": "https://localhost:8080/",
          "height": 398
        },
        "id": "H4-R-optuIAQ",
        "outputId": "4c46aedf-b8bd-446f-c34a-42b18cb650b9"
      },
      "execution_count": 31,
      "outputs": [
        {
          "output_type": "execute_result",
          "data": {
            "text/plain": [
              "<langgraph.graph.state.CompiledStateGraph object at 0x7b2367674990>"
            ],
            "image/png": "[encoded data removed]"
          },
          "metadata": {},
          "execution_count": 31
        }
      ]
    },
    {
      "cell_type": "code",
      "source": [
        "# Run the workflow with an initial topic\n",
        "graph.invoke({\"topic\":\"cats\"})"
      ],
      "metadata": {
        "colab": {
          "base_uri": "https://localhost:8080/"
        },
        "id": "_Vg2swhlu0ag",
        "outputId": "fb04e0ed-6251-4543-f725-eef576db74d1"
      },
      "execution_count": 32,
      "outputs": [
        {
          "output_type": "execute_result",
          "data": {
            "text/plain": [
              "{'joke': \"Why don't cats play poker in the wild? Because there are too many cheetahs!\",\n",
              " 'topic': 'cats',\n",
              " 'feedback': 'The joke is playful and uses wordplay effectively.',\n",
              " 'funny_or_not': 'funny'}"
            ]
          },
          "metadata": {},
          "execution_count": 32
        }
      ]
    },
    {
      "cell_type": "markdown",
      "source": [
        "### Explanation of the Code:\n",
        "1. **State Definition**:\n",
        "   - A `TypedDict` named `State` keeps track of joke generation, feedback, and evaluation.\n",
        "\n",
        "2. **Evaluation Model**:\n",
        "   - `Feedback` class uses Pydantic to structure LLM responses with:\n",
        "     - `grade`: Classifies the joke as `\"funny\"` or `\"not funny\"`.\n",
        "     - `feedback`: If `\"not funny\"`, it provides suggestions for improvement.\n",
        "\n",
        "3. **Joke Generation**:\n",
        "   - `llm_call_generator` generates a joke based on the given `topic` and refines it if previous feedback exists.\n",
        "\n",
        "4. **Joke Evaluation**:\n",
        "   - `llm_call_evaluator` grades the joke and provides feedback if necessary.\n",
        "\n",
        "5. **Routing Logic**:\n",
        "   - `route_joke` determines if the joke is funny or needs improvement.\n",
        "\n",
        "6. **Workflow Structure**:\n",
        "   - The graph begins with joke generation.\n",
        "   - The joke is evaluated.\n",
        "   - If funny, the process stops.\n",
        "   - If not, the joke is regenerated using feedback, looping until an acceptable joke is produced."
      ],
      "metadata": {
        "id": "TntVqozXJz5F"
      }
    }
  ]
}