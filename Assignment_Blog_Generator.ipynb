{
  "nbformat": 4,
  "nbformat_minor": 0,
  "metadata": {
    "colab": {
      "provenance": []
    },
    "kernelspec": {
      "name": "python3",
      "display_name": "Python 3"
    },
    "language_info": {
      "name": "python"
    }
  },
  "cells": [
    {
      "cell_type": "code",
      "execution_count": 1,
      "metadata": {
        "id": "gCmUYcbuKUNC"
      },
      "outputs": [],
      "source": [
        "! pip install -q langgraph langchain-community langchain-core langchain-groq"
      ]
    },
    {
      "cell_type": "code",
      "source": [
        "from langgraph.graph import MessagesState\n",
        "from langchain_groq import ChatGroq\n",
        "from langgraph.graph import START, END, StateGraph\n",
        "from langchain_core.messages import SystemMessage\n",
        "from google.colab import userdata\n",
        "\n",
        "import os"
      ],
      "metadata": {
        "id": "YvqluHAEK4uj"
      },
      "execution_count": 2,
      "outputs": []
    },
    {
      "cell_type": "code",
      "source": [
        "# Retrieve API keys from Google Colab environment\n",
        "GROQ_API_KEY = userdata.get('GROQ_API_KEY')\n",
        "\n",
        "# Set API keys as environment variables\n",
        "os.environ['GROQ_API_KEY'] = GROQ_API_KEY"
      ],
      "metadata": {
        "id": "ZM26oLysLTFm"
      },
      "execution_count": 3,
      "outputs": []
    },
    {
      "cell_type": "code",
      "source": [
        "llm = ChatGroq(model=\"qwen-2.5-32b\")\n",
        "llm"
      ],
      "metadata": {
        "colab": {
          "base_uri": "https://localhost:8080/"
        },
        "id": "XOJhnr56Laaq",
        "outputId": "4d17f140-1d65-4f26-c482-ba595ff0776d"
      },
      "execution_count": 4,
      "outputs": [
        {
          "output_type": "execute_result",
          "data": {
            "text/plain": [
              "ChatGroq(client=<groq.resources.chat.completions.Completions object at 0x7b48bd0e9150>, async_client=<groq.resources.chat.completions.AsyncCompletions object at 0x7b48bcdbb010>, model_name='qwen-2.5-32b', model_kwargs={}, groq_api_key=SecretStr('**********'))"
            ]
          },
          "metadata": {},
          "execution_count": 4
        }
      ]
    },
    {
      "cell_type": "code",
      "source": [
        "builder = StateGraph(MessagesState)\n",
        "builder"
      ],
      "metadata": {
        "colab": {
          "base_uri": "https://localhost:8080/"
        },
        "id": "Xnpv4auXLeSt",
        "outputId": "33d48e53-ada7-4636-cd25-a6320828eb21"
      },
      "execution_count": 5,
      "outputs": [
        {
          "output_type": "execute_result",
          "data": {
            "text/plain": [
              "<langgraph.graph.state.StateGraph at 0x7b48d75f4a10>"
            ]
          },
          "metadata": {},
          "execution_count": 5
        }
      ]
    },
    {
      "cell_type": "code",
      "source": [
        "def title_generator(state:MessagesState):\n",
        "\n",
        "  title_system_prompt = SystemMessage(\n",
        "    '''\n",
        "    Generate a compelling and SEO-friendly blog title. The title should be engaging, clear, and optimized for reader interest. Aim for a balance between creativity and clarity.\n",
        "    '''\n",
        ")\n",
        "\n",
        "  return {\"messages\":[llm.invoke([title_system_prompt] + state[\"messages\"])]}"
      ],
      "metadata": {
        "id": "Z0-zx2nYLmEL"
      },
      "execution_count": 6,
      "outputs": []
    },
    {
      "cell_type": "code",
      "source": [
        "def blog_generator(state:MessagesState):\n",
        "\n",
        "  blog_system_prompt = SystemMessage(\n",
        "'''\n",
        "Write a detailed and engaging blog post. The blog should be well-structured with an introduction, key insights, and a conclusion. It should be informative, engaging, and optimized for SEO. Use a professional yet conversational tone. Include relevant examples, statistics, and actionable takeaways where applicable. Ensure readability with short paragraphs, subheadings, and bullet points.\n",
        "'''\n",
        " )\n",
        "\n",
        "\n",
        "  return {\"messages\":[llm.invoke([blog_system_prompt] + state[\"messages\"])]}"
      ],
      "metadata": {
        "id": "PPTBTQ5iNoSV"
      },
      "execution_count": 7,
      "outputs": []
    },
    {
      "cell_type": "code",
      "source": [
        "builder.add_node(\"title_generator\",title_generator)\n",
        "builder.add_node(\"blog_generator\",blog_generator)\n",
        "\n",
        "builder.add_edge(START,\"title_generator\")\n",
        "builder.add_edge(\"title_generator\",\"blog_generator\")\n",
        "builder.add_edge(\"blog_generator\",END)\n",
        "\n",
        "graph = builder.compile()\n",
        "graph"
      ],
      "metadata": {
        "colab": {
          "base_uri": "https://localhost:8080/",
          "height": 350
        },
        "id": "HEMD3PSQN-Ad",
        "outputId": "cf031d0c-fb62-442d-aa89-193fc78845ff"
      },
      "execution_count": 8,
      "outputs": [
        {
          "output_type": "execute_result",
          "data": {
            "text/plain": [
              "<langgraph.graph.state.CompiledStateGraph object at 0x7b48bcdc7290>"
            ],
            "image/png": "[encoded data removed]"
          },
          "metadata": {},
          "execution_count": 8
        }
      ]
    },
    {
      "cell_type": "code",
      "source": [
        "topic = \"machine learning\"\n",
        "messages = graph.invoke({\"messages\":topic})\n",
        "for m in messages[\"messages\"]:\n",
        "  m.pretty_print()"
      ],
      "metadata": {
        "colab": {
          "base_uri": "https://localhost:8080/"
        },
        "id": "ULJOw-6FOYGe",
        "outputId": "ab8781fa-53aa-471a-fde6-f89d417c2fa1"
      },
      "execution_count": 15,
      "outputs": [
        {
          "output_type": "stream",
          "name": "stdout",
          "text": [
            "================================\u001b[1m Human Message \u001b[0m=================================\n",
            "\n",
            "machine learning\n",
            "==================================\u001b[1m Ai Message \u001b[0m==================================\n",
            "\n",
            "\"Unlocking the Future: How Machine Learning is Revolutionizing the Tech World\"\n",
            "==================================\u001b[1m Ai Message \u001b[0m==================================\n",
            "\n",
            "### Unlocking the Future: How Machine Learning is Revolutionizing the Tech World\n",
            "\n",
            "In the rapidly evolving landscape of technology, one area stands out as a game-changer: Machine Learning (ML). This subset of artificial intelligence (AI) is not just a buzzword but a transformative force reshaping industries, from healthcare to finance, and everything in between. In this blog post, we’ll dive into the basics of machine learning, explore its key insights, and uncover how it's making a tangible impact on our daily lives.\n",
            "\n",
            "#### What is Machine Learning?\n",
            "\n",
            "Machine Learning is a method of data analysis that automates analytical model building. It is based on the idea that systems can learn from data, identify patterns, and make decisions with minimal human intervention. ML algorithms are designed to adapt and improve over time as they process more data, making them incredibly powerful tools for prediction and decision-making.\n",
            "\n",
            "#### Key Insights into Machine Learning\n",
            "\n",
            "1. **Automated Decision-Making:** ML allows machines to automatically learn from past data and experiences to make decisions without explicit programming. This capability is what sets ML apart and makes it so transformative. For example, recommendation engines on platforms like Netflix or Amazon use ML to suggest products or content based on your browsing and purchase history.\n",
            "\n",
            "2. **Enhanced Data Analysis:** With the vast amounts of data generated daily, traditional data analysis techniques often come up short. ML algorithms can efficiently analyze complex data sets, identify trends, and provide actionable insights. In healthcare, ML is being used to analyze patient data to predict disease outcomes and tailor treatment plans.\n",
            "\n",
            "3. **Improved Efficiency:** ML can significantly improve operational efficiency. In manufacturing, predictive maintenance powered by ML algorithms can forecast equipment failures, reducing downtime and maintenance costs. This not only saves money but also ensures a smoother production process.\n",
            "\n",
            "4. **Innovation in Accessibility:** Machine Learning is also democratizing technology, making it more accessible to individuals and businesses. Tools like Google’s AutoML and Microsoft Azure ML Studio allow users with minimal expertise to build and deploy ML models. This accessibility is crucial in fostering innovation across industries, where ML can be tailored to specific needs without requiring deep technical knowledge.\n",
            "\n",
            "#### Real-World Applications\n",
            "\n",
            "To truly understand the impact of ML, it’s important to look at it in action:\n",
            "\n",
            "- **Healthcare:** ML is being used to improve patient outcomes by analyzing medical records, images, and genetic data to predict diseases and suggest personalized treatments. For instance, IBM's Watson for Oncology uses ML to provide evidence-based treatment options for cancer patients.\n",
            "  \n",
            "- **Finance:** In finance, ML algorithms are used to detect fraud, automate trading, and assess credit risk. Companies like PayPal use ML to analyze transactions in real-time, flagging suspicious activities and preventing fraudulent transactions.\n",
            "\n",
            "- **Retail:** Retailers are using ML to enhance customer experience through personalized marketing and recommendations. Amazon, for example, uses ML not only to recommend products but also to optimize its supply chain and delivery routes.\n",
            "\n",
            "#### Future Prospects and Challenges\n",
            "\n",
            "While the potential of ML is undeniable, it also presents several challenges. Privacy and security are major concerns, as the reliance on large datasets can expose sensitive information. Additionally, the lack of transparency in how ML algorithms make decisions, often called the “black box” problem, can be a significant barrier to adoption in fields where accountability is critical.\n",
            "\n",
            "#### Conclusion\n",
            "\n",
            "Machine Learning is not just a tool for the future; it’s an essential part of the present, driving innovation and efficiency across various sectors. From improving healthcare outcomes to enhancing retail experiences, ML’s impact is far-reaching and transformative. As technology continues to evolve, the need for ethical guidelines and robust security measures will be crucial in harnessing the full potential of ML while protecting user privacy and ensuring transparency.\n",
            "\n",
            "By staying informed and engaged with the latest advancements in ML, we can ensure that this powerful technology is used to its fullest potential, benefiting society as a whole. Whether you're a tech enthusiast, a business leader, or just someone curious about the future, understanding ML is key to navigating the digital landscape of tomorrow.\n",
            "\n",
            "### Actionable Takeaways\n",
            "\n",
            "- **Stay Updated:** Follow the latest developments in ML to understand how it’s evolving and being applied.\n",
            "- **Start Small:** Begin with simple ML projects or tools to gain hands-on experience and build foundational knowledge.\n",
            "- **Ethical Considerations:** Always consider the ethical implications of ML applications, especially concerning privacy and data security.\n",
            "\n",
            "Machine Learning is here to stay, and its influence will only grow as technology continues to advance. Embrace this change, and you’ll be well-positioned to leverage this powerful tool for innovation and success.\n"
          ]
        }
      ]
    },
    {
      "cell_type": "code",
      "source": [],
      "metadata": {
        "id": "3Ea_gSlGQQJS"
      },
      "execution_count": null,
      "outputs": []
    }
  ]
}