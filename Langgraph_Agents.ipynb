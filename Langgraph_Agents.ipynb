{
  "nbformat": 4,
  "nbformat_minor": 0,
  "metadata": {
    "colab": {
      "provenance": []
    },
    "kernelspec": {
      "name": "python3",
      "display_name": "Python 3"
    },
    "language_info": {
      "name": "python"
    }
  },
  "cells": [
    {
      "cell_type": "markdown",
      "source": [
        "# Install required libraries"
      ],
      "metadata": {
        "id": "xwEf98HsIzpK"
      }
    },
    {
      "cell_type": "code",
      "execution_count": 1,
      "metadata": {
        "id": "lNyEuaaUA-Mt"
      },
      "outputs": [],
      "source": [
        "! pip install -q langgraph langchain-community langchain-core langchain-groq langchain-openai"
      ]
    },
    {
      "cell_type": "code",
      "source": [
        "# Import necessary modules\n",
        "from google.colab import userdata\n",
        "import os\n",
        "from langchain_groq import ChatGroq\n",
        "from langchain_openai import ChatOpenAI\n",
        "from typing_extensions import TypedDict\n",
        "from langgraph.graph import add_messages\n",
        "from typing import Annotated\n",
        "from langchain_core.messages import AnyMessage, SystemMessage, HumanMessage\n",
        "\n",
        "from langgraph.graph import START , StateGraph\n",
        "from langgraph.prebuilt import tools_condition\n",
        "from langgraph.prebuilt import ToolNode\n",
        "from IPython.display import Image, display"
      ],
      "metadata": {
        "id": "baCjeB1GOX0I"
      },
      "execution_count": 2,
      "outputs": []
    },
    {
      "cell_type": "code",
      "source": [
        "# Retrieve API keys from Google Colab environment\n",
        "GROQ_API_KEY = userdata.get('GROQ_API_KEY')\n",
        "OPENAI_API_KEY = userdata.get('OPENAI_API_KEY')\n",
        "\n",
        "# Set API keys as environment variables\n",
        "os.environ['GROQ_API_KEY'] = GROQ_API_KEY\n",
        "os.environ['OPENAI_API_KEY'] = OPENAI_API_KEY"
      ],
      "metadata": {
        "id": "D-eevEIdOb4D"
      },
      "execution_count": 3,
      "outputs": []
    },
    {
      "cell_type": "code",
      "source": [
        "# Initialize language models\n",
        "llm1 = ChatGroq(model=\"qwen-2.5-32b\")\n",
        "llm1"
      ],
      "metadata": {
        "colab": {
          "base_uri": "https://localhost:8080/"
        },
        "id": "jisE-vkSOjI5",
        "outputId": "3ceea8e8-1e1f-44bf-d9b4-98f8365928a4"
      },
      "execution_count": 4,
      "outputs": [
        {
          "output_type": "execute_result",
          "data": {
            "text/plain": [
              "ChatGroq(client=<groq.resources.chat.completions.Completions object at 0x7cedbe663010>, async_client=<groq.resources.chat.completions.AsyncCompletions object at 0x7cedbe68fad0>, model_name='qwen-2.5-32b', model_kwargs={}, groq_api_key=SecretStr('**********'))"
            ]
          },
          "metadata": {},
          "execution_count": 4
        }
      ]
    },
    {
      "cell_type": "code",
      "source": [
        "# Initialize language models\n",
        "llm = ChatOpenAI(model=\"gpt-4o\")"
      ],
      "metadata": {
        "id": "1rdzgZU_jLLP"
      },
      "execution_count": 5,
      "outputs": []
    },
    {
      "cell_type": "code",
      "source": [
        "# Define mathematical operations\n",
        "def add(a: int, b: int) -> int:\n",
        "  \"\"\"Adds two integers together.\n",
        "\n",
        "  Args:\n",
        "    a: The first integer.\n",
        "    b: The second integer.\n",
        "\n",
        "  Returns:\n",
        "    The sum of the two integers.\n",
        "  \"\"\"\n",
        "  return a + b\n",
        "\n",
        "def multiply(a: int, b: int) -> int:\n",
        "  \"\"\"Multiply two integers together.\n",
        "\n",
        "  Args:\n",
        "    a: The first integer.\n",
        "    b: The second integer.\n",
        "\n",
        "  Returns:\n",
        "    The multiply of the two integers.\n",
        "  \"\"\"\n",
        "  return a * b\n",
        "\n",
        "def divide(a: int, b: int) -> float:\n",
        "  \"\"\"Divide two integers together.\n",
        "\n",
        "  Args:\n",
        "    a: The first integer.\n",
        "    b: The second integer.\n",
        "\n",
        "  Returns:\n",
        "    The divide of the two integers.\n",
        "  \"\"\"\n",
        "  return a / b\n"
      ],
      "metadata": {
        "id": "1BfcyhMSO5dp"
      },
      "execution_count": 6,
      "outputs": []
    },
    {
      "cell_type": "code",
      "source": [
        "# List of available tools (math functions)\n",
        "tools = [add,multiply,divide]"
      ],
      "metadata": {
        "id": "QMkqkL2KPTTG"
      },
      "execution_count": 7,
      "outputs": []
    },
    {
      "cell_type": "code",
      "source": [
        "# Bind tools to the LLM with tool calling disabled in parallel\n",
        "llm_with_tool_calling = llm.bind_tools(tools,parallel_tool_calls=False)\n",
        "llm_with_tool_calling"
      ],
      "metadata": {
        "colab": {
          "base_uri": "https://localhost:8080/"
        },
        "id": "56EiRhqMPhwt",
        "outputId": "827773fb-2c00-423f-9ad9-7daae9140292"
      },
      "execution_count": 8,
      "outputs": [
        {
          "output_type": "execute_result",
          "data": {
            "text/plain": [
              "RunnableBinding(bound=ChatOpenAI(client=<openai.resources.chat.completions.Completions object at 0x7cedbe68fe10>, async_client=<openai.resources.chat.completions.AsyncCompletions object at 0x7cedbe365f90>, root_client=<openai.OpenAI object at 0x7cedbe593450>, root_async_client=<openai.AsyncOpenAI object at 0x7cedbe355c50>, model_name='gpt-4o', model_kwargs={}, openai_api_key=SecretStr('**********')), kwargs={'tools': [{'type': 'function', 'function': {'name': 'add', 'description': 'Adds two integers together.', 'parameters': {'properties': {'a': {'description': 'The first integer.', 'type': 'integer'}, 'b': {'description': 'The second integer.', 'type': 'integer'}}, 'required': ['a', 'b'], 'type': 'object'}}}, {'type': 'function', 'function': {'name': 'multiply', 'description': 'Multiply two integers together.', 'parameters': {'properties': {'a': {'description': 'The first integer.', 'type': 'integer'}, 'b': {'description': 'The second integer.', 'type': 'integer'}}, 'required': ['a', 'b'], 'type': 'object'}}}, {'type': 'function', 'function': {'name': 'divide', 'description': 'Divide two integers together.', 'parameters': {'properties': {'a': {'description': 'The first integer.', 'type': 'integer'}, 'b': {'description': 'The second integer.', 'type': 'integer'}}, 'required': ['a', 'b'], 'type': 'object'}}}], 'parallel_tool_calls': False}, config={}, config_factories=[])"
            ]
          },
          "metadata": {},
          "execution_count": 8
        }
      ]
    },
    {
      "cell_type": "code",
      "source": [
        "# Define a message state for tracking conversation history\n",
        "class MessageState(TypedDict):\n",
        "  messages: Annotated[list[AnyMessage],add_messages]"
      ],
      "metadata": {
        "id": "vO93kS8DPnxt"
      },
      "execution_count": 9,
      "outputs": []
    },
    {
      "cell_type": "code",
      "source": [
        "# Define system message for the assistant\n",
        "system_message = SystemMessage(\"\"\"\n",
        "You are a helpful assistant who is tasked with performing arithmetic operation on a set of inputs\n",
        "\"\"\")\n",
        "\n",
        "# Function to process user messages through the assistant\n",
        "def assistant(state:MessageState):\n",
        "  return {\"messages\":[llm_with_tool_calling.invoke([system_message] + state[\"messages\"])]}"
      ],
      "metadata": {
        "id": "6D8mtPx3W8Md"
      },
      "execution_count": 10,
      "outputs": []
    },
    {
      "cell_type": "code",
      "source": [
        "# Create a state graph for managing interactions\n",
        "builder = StateGraph(MessageState)\n",
        "\n",
        "# Add nodes to the graph (assistant and tool execution)\n",
        "builder.add_node(\"assistant\",assistant)\n",
        "builder.add_node(\"tools\",ToolNode(tools))\n",
        "\n",
        "# Define the conversation flow\n",
        "builder.add_edge(START,\"assistant\")\n",
        "builder.add_conditional_edges(\"assistant\",tools_condition)\n",
        "builder.add_edge(\"tools\",\"assistant\")"
      ],
      "metadata": {
        "colab": {
          "base_uri": "https://localhost:8080/"
        },
        "id": "hsLnEaDGedRN",
        "outputId": "421e3afc-d1e9-4aa9-e1fb-9cba71ba02b8"
      },
      "execution_count": 11,
      "outputs": [
        {
          "output_type": "execute_result",
          "data": {
            "text/plain": [
              "<langgraph.graph.state.StateGraph at 0x7cedbe399f90>"
            ]
          },
          "metadata": {},
          "execution_count": 11
        }
      ]
    },
    {
      "cell_type": "code",
      "source": [
        "# Compile the graph\n",
        "graph = builder.compile()\n",
        "graph"
      ],
      "metadata": {
        "colab": {
          "base_uri": "https://localhost:8080/",
          "height": 266
        },
        "id": "g7iBqwtqgAih",
        "outputId": "ee9d0a11-59a3-48b3-a236-39a31fd42966"
      },
      "execution_count": 12,
      "outputs": [
        {
          "output_type": "execute_result",
          "data": {
            "text/plain": [
              "<langgraph.graph.state.CompiledStateGraph object at 0x7cedbe68f950>"
            ],
            "image/png": "[encoded data removed]"
          },
          "metadata": {},
          "execution_count": 12
        }
      ]
    },
    {
      "cell_type": "code",
      "source": [
        "# Example: Invoke the graph with an arithmetic query\n",
        "messages = graph.invoke({\"messages\":\"2 plus 3 and then multiply by 5 and divide by 2\"})\n",
        "messages"
      ],
      "metadata": {
        "colab": {
          "base_uri": "https://localhost:8080/"
        },
        "id": "oKZkNAfKgB73",
        "outputId": "1ed65e3e-76d7-4788-a9b8-18ee94fce4cb"
      },
      "execution_count": 13,
      "outputs": [
        {
          "output_type": "execute_result",
          "data": {
            "text/plain": [
              "{'messages': [HumanMessage(content='2 plus 3 and then multiply by 5 and divide by 2', additional_kwargs={}, response_metadata={}, id='f8a72476-e7dd-40e8-9c2d-3c2e7f610b36'),\n",
              "  AIMessage(content='', additional_kwargs={'tool_calls': [{'id': 'call_FXnrQKFJ4In3eCQmT6ARTlUa', 'function': {'arguments': '{\"a\":2,\"b\":3}', 'name': 'add'}, 'type': 'function'}], 'refusal': None}, response_metadata={'token_usage': {'completion_tokens': 18, 'prompt_tokens': 150, 'total_tokens': 168, 'completion_tokens_details': {'accepted_prediction_tokens': 0, 'audio_tokens': 0, 'reasoning_tokens': 0, 'rejected_prediction_tokens': 0}, 'prompt_tokens_details': {'audio_tokens': 0, 'cached_tokens': 0}}, 'model_name': 'gpt-4o-2024-08-06', 'system_fingerprint': 'fp_fee4aaf18f', 'finish_reason': 'tool_calls', 'logprobs': None}, id='run-4db84933-4ce8-4bc8-8eec-4d2f7eb7cb95-0', tool_calls=[{'name': 'add', 'args': {'a': 2, 'b': 3}, 'id': 'call_FXnrQKFJ4In3eCQmT6ARTlUa', 'type': 'tool_call'}], usage_metadata={'input_tokens': 150, 'output_tokens': 18, 'total_tokens': 168, 'input_token_details': {'audio': 0, 'cache_read': 0}, 'output_token_details': {'audio': 0, 'reasoning': 0}}),\n",
              "  ToolMessage(content='5', name='add', id='56ab974f-81ce-45e1-9a7b-25d318611396', tool_call_id='call_FXnrQKFJ4In3eCQmT6ARTlUa'),\n",
              "  AIMessage(content='', additional_kwargs={'tool_calls': [{'id': 'call_ljFTWh4vrzvR1ryTTHqIXagx', 'function': {'arguments': '{\"a\":5,\"b\":5}', 'name': 'multiply'}, 'type': 'function'}], 'refusal': None}, response_metadata={'token_usage': {'completion_tokens': 18, 'prompt_tokens': 175, 'total_tokens': 193, 'completion_tokens_details': {'accepted_prediction_tokens': 0, 'audio_tokens': 0, 'reasoning_tokens': 0, 'rejected_prediction_tokens': 0}, 'prompt_tokens_details': {'audio_tokens': 0, 'cached_tokens': 0}}, 'model_name': 'gpt-4o-2024-08-06', 'system_fingerprint': 'fp_fee4aaf18f', 'finish_reason': 'tool_calls', 'logprobs': None}, id='run-1b97a90c-f1be-49ef-8a30-085d1879c07c-0', tool_calls=[{'name': 'multiply', 'args': {'a': 5, 'b': 5}, 'id': 'call_ljFTWh4vrzvR1ryTTHqIXagx', 'type': 'tool_call'}], usage_metadata={'input_tokens': 175, 'output_tokens': 18, 'total_tokens': 193, 'input_token_details': {'audio': 0, 'cache_read': 0}, 'output_token_details': {'audio': 0, 'reasoning': 0}}),\n",
              "  ToolMessage(content='25', name='multiply', id='66e7ffef-8a7f-4a77-ade1-4275bea3695c', tool_call_id='call_ljFTWh4vrzvR1ryTTHqIXagx'),\n",
              "  AIMessage(content='', additional_kwargs={'tool_calls': [{'id': 'call_S9XgEnIXDNNXN22MtTQFBSz9', 'function': {'arguments': '{\"a\":25,\"b\":2}', 'name': 'divide'}, 'type': 'function'}], 'refusal': None}, response_metadata={'token_usage': {'completion_tokens': 18, 'prompt_tokens': 200, 'total_tokens': 218, 'completion_tokens_details': {'accepted_prediction_tokens': 0, 'audio_tokens': 0, 'reasoning_tokens': 0, 'rejected_prediction_tokens': 0}, 'prompt_tokens_details': {'audio_tokens': 0, 'cached_tokens': 0}}, 'model_name': 'gpt-4o-2024-08-06', 'system_fingerprint': 'fp_fee4aaf18f', 'finish_reason': 'tool_calls', 'logprobs': None}, id='run-58607990-9531-4bf0-8a24-ebdc79f5de8e-0', tool_calls=[{'name': 'divide', 'args': {'a': 25, 'b': 2}, 'id': 'call_S9XgEnIXDNNXN22MtTQFBSz9', 'type': 'tool_call'}], usage_metadata={'input_tokens': 200, 'output_tokens': 18, 'total_tokens': 218, 'input_token_details': {'audio': 0, 'cache_read': 0}, 'output_token_details': {'audio': 0, 'reasoning': 0}}),\n",
              "  ToolMessage(content='12.5', name='divide', id='e5e9c328-adc5-4464-a567-2b049d1de2a3', tool_call_id='call_S9XgEnIXDNNXN22MtTQFBSz9'),\n",
              "  AIMessage(content='2 plus 3 is 5. Multiply 5 by 5 to get 25. Dividing 25 by 2 gives 12.5.', additional_kwargs={'refusal': None}, response_metadata={'token_usage': {'completion_tokens': 34, 'prompt_tokens': 227, 'total_tokens': 261, 'completion_tokens_details': {'accepted_prediction_tokens': 0, 'audio_tokens': 0, 'reasoning_tokens': 0, 'rejected_prediction_tokens': 0}, 'prompt_tokens_details': {'audio_tokens': 0, 'cached_tokens': 0}}, 'model_name': 'gpt-4o-2024-08-06', 'system_fingerprint': 'fp_fee4aaf18f', 'finish_reason': 'stop', 'logprobs': None}, id='run-06622789-65a4-4cc6-807f-0b5ae5e3087d-0', usage_metadata={'input_tokens': 227, 'output_tokens': 34, 'total_tokens': 261, 'input_token_details': {'audio': 0, 'cache_read': 0}, 'output_token_details': {'audio': 0, 'reasoning': 0}})]}"
            ]
          },
          "metadata": {},
          "execution_count": 13
        }
      ]
    },
    {
      "cell_type": "code",
      "source": [
        "for m in messages[\"messages\"]:\n",
        "  m.pretty_print()"
      ],
      "metadata": {
        "colab": {
          "base_uri": "https://localhost:8080/"
        },
        "id": "vkPQ7T3zgqWG",
        "outputId": "404cd6a3-77bb-498f-964f-d91b673d70e2"
      },
      "execution_count": 14,
      "outputs": [
        {
          "output_type": "stream",
          "name": "stdout",
          "text": [
            "================================\u001b[1m Human Message \u001b[0m=================================\n",
            "\n",
            "2 plus 3 and then multiply by 5 and divide by 2\n",
            "==================================\u001b[1m Ai Message \u001b[0m==================================\n",
            "Tool Calls:\n",
            "  add (call_FXnrQKFJ4In3eCQmT6ARTlUa)\n",
            " Call ID: call_FXnrQKFJ4In3eCQmT6ARTlUa\n",
            "  Args:\n",
            "    a: 2\n",
            "    b: 3\n",
            "=================================\u001b[1m Tool Message \u001b[0m=================================\n",
            "Name: add\n",
            "\n",
            "5\n",
            "==================================\u001b[1m Ai Message \u001b[0m==================================\n",
            "Tool Calls:\n",
            "  multiply (call_ljFTWh4vrzvR1ryTTHqIXagx)\n",
            " Call ID: call_ljFTWh4vrzvR1ryTTHqIXagx\n",
            "  Args:\n",
            "    a: 5\n",
            "    b: 5\n",
            "=================================\u001b[1m Tool Message \u001b[0m=================================\n",
            "Name: multiply\n",
            "\n",
            "25\n",
            "==================================\u001b[1m Ai Message \u001b[0m==================================\n",
            "Tool Calls:\n",
            "  divide (call_S9XgEnIXDNNXN22MtTQFBSz9)\n",
            " Call ID: call_S9XgEnIXDNNXN22MtTQFBSz9\n",
            "  Args:\n",
            "    a: 25\n",
            "    b: 2\n",
            "=================================\u001b[1m Tool Message \u001b[0m=================================\n",
            "Name: divide\n",
            "\n",
            "12.5\n",
            "==================================\u001b[1m Ai Message \u001b[0m==================================\n",
            "\n",
            "2 plus 3 is 5. Multiply 5 by 5 to get 25. Dividing 25 by 2 gives 12.5.\n"
          ]
        }
      ]
    },
    {
      "cell_type": "markdown",
      "source": [
        "# Memory Using MemorySaver"
      ],
      "metadata": {
        "id": "pD_kJz_N2gDu"
      }
    },
    {
      "cell_type": "code",
      "source": [
        "from langgraph.checkpoint.memory import MemorySaver"
      ],
      "metadata": {
        "id": "39jTu6ah2pry"
      },
      "execution_count": 15,
      "outputs": []
    },
    {
      "cell_type": "code",
      "source": [
        "# Test case without memory\n",
        "messages = graph.invoke({\"messages\":\"add 14 plus 15\"})\n",
        "for m in messages[\"messages\"]:\n",
        "  m.pretty_print()"
      ],
      "metadata": {
        "colab": {
          "base_uri": "https://localhost:8080/"
        },
        "id": "etlf_5spibSV",
        "outputId": "ae94e4d7-3bc3-41ff-f4b8-87e6d1c86abf"
      },
      "execution_count": 16,
      "outputs": [
        {
          "output_type": "stream",
          "name": "stdout",
          "text": [
            "================================\u001b[1m Human Message \u001b[0m=================================\n",
            "\n",
            "add 14 plus 15\n",
            "==================================\u001b[1m Ai Message \u001b[0m==================================\n",
            "Tool Calls:\n",
            "  add (call_JTh7wr5TcRvl5yfjkqIRxQ9n)\n",
            " Call ID: call_JTh7wr5TcRvl5yfjkqIRxQ9n\n",
            "  Args:\n",
            "    a: 14\n",
            "    b: 15\n",
            "=================================\u001b[1m Tool Message \u001b[0m=================================\n",
            "Name: add\n",
            "\n",
            "29\n",
            "==================================\u001b[1m Ai Message \u001b[0m==================================\n",
            "\n",
            "14 plus 15 is 29.\n"
          ]
        }
      ]
    },
    {
      "cell_type": "code",
      "source": [
        "messages = graph.invoke({\"messages\":\"multiply by 2\"})\n",
        "for m in messages[\"messages\"]:\n",
        "  m.pretty_print()"
      ],
      "metadata": {
        "colab": {
          "base_uri": "https://localhost:8080/"
        },
        "id": "1JDDAGwN2WfP",
        "outputId": "d11723cd-429d-4d48-e944-fcb339a3e76c"
      },
      "execution_count": 17,
      "outputs": [
        {
          "output_type": "stream",
          "name": "stdout",
          "text": [
            "================================\u001b[1m Human Message \u001b[0m=================================\n",
            "\n",
            "multiply by 2\n",
            "==================================\u001b[1m Ai Message \u001b[0m==================================\n",
            "\n",
            "It seems like you would like to multiply a number by 2, but you haven't specified the number. Please provide the number you'd like to multiply by 2.\n"
          ]
        }
      ]
    },
    {
      "cell_type": "code",
      "source": [
        "# Enable memory for state retention\n",
        "memory = MemorySaver()\n",
        "\n",
        "graph = builder.compile(checkpointer=memory)"
      ],
      "metadata": {
        "id": "6j-_s-Rr2aYf"
      },
      "execution_count": 18,
      "outputs": []
    },
    {
      "cell_type": "code",
      "source": [
        "# Use thread IDs to track conversations\n",
        "config = {\"thread_id\":\"1\"}\n",
        "\n",
        "messages = graph.invoke({\"messages\":\"add 14 plus 15\"},config=config)\n",
        "for m in messages[\"messages\"]:\n",
        "  m.pretty_print()"
      ],
      "metadata": {
        "colab": {
          "base_uri": "https://localhost:8080/"
        },
        "id": "EpxsVSf720N-",
        "outputId": "2eb5504a-02ab-40df-9be1-be953875fe23"
      },
      "execution_count": 19,
      "outputs": [
        {
          "output_type": "stream",
          "name": "stdout",
          "text": [
            "================================\u001b[1m Human Message \u001b[0m=================================\n",
            "\n",
            "add 14 plus 15\n",
            "==================================\u001b[1m Ai Message \u001b[0m==================================\n",
            "Tool Calls:\n",
            "  add (call_832A4qFGmqNSk6Hb0YeCFXv7)\n",
            " Call ID: call_832A4qFGmqNSk6Hb0YeCFXv7\n",
            "  Args:\n",
            "    a: 14\n",
            "    b: 15\n",
            "=================================\u001b[1m Tool Message \u001b[0m=================================\n",
            "Name: add\n",
            "\n",
            "29\n",
            "==================================\u001b[1m Ai Message \u001b[0m==================================\n",
            "\n",
            "14 plus 15 equals 29.\n"
          ]
        }
      ]
    },
    {
      "cell_type": "code",
      "source": [
        "messages = graph.invoke({\"messages\":\"Multiply by 2\"},config=config)\n",
        "for m in messages[\"messages\"]:\n",
        "  m.pretty_print()"
      ],
      "metadata": {
        "colab": {
          "base_uri": "https://localhost:8080/"
        },
        "id": "sGqISRlu3V-Q",
        "outputId": "828ed700-8774-4a4e-a6d8-a596d9cd9044"
      },
      "execution_count": 20,
      "outputs": [
        {
          "output_type": "stream",
          "name": "stdout",
          "text": [
            "================================\u001b[1m Human Message \u001b[0m=================================\n",
            "\n",
            "add 14 plus 15\n",
            "==================================\u001b[1m Ai Message \u001b[0m==================================\n",
            "Tool Calls:\n",
            "  add (call_832A4qFGmqNSk6Hb0YeCFXv7)\n",
            " Call ID: call_832A4qFGmqNSk6Hb0YeCFXv7\n",
            "  Args:\n",
            "    a: 14\n",
            "    b: 15\n",
            "=================================\u001b[1m Tool Message \u001b[0m=================================\n",
            "Name: add\n",
            "\n",
            "29\n",
            "==================================\u001b[1m Ai Message \u001b[0m==================================\n",
            "\n",
            "14 plus 15 equals 29.\n",
            "================================\u001b[1m Human Message \u001b[0m=================================\n",
            "\n",
            "Multiply by 2\n",
            "==================================\u001b[1m Ai Message \u001b[0m==================================\n",
            "Tool Calls:\n",
            "  multiply (call_dB6GJcjrknp09oUNIpsOnNG4)\n",
            " Call ID: call_dB6GJcjrknp09oUNIpsOnNG4\n",
            "  Args:\n",
            "    a: 29\n",
            "    b: 2\n",
            "=================================\u001b[1m Tool Message \u001b[0m=================================\n",
            "Name: multiply\n",
            "\n",
            "58\n",
            "==================================\u001b[1m Ai Message \u001b[0m==================================\n",
            "\n",
            "Multiplying 29 by 2 gives 58.\n"
          ]
        }
      ]
    },
    {
      "cell_type": "code",
      "source": [
        "# Second thread (new conversation)\n",
        "config = {\"thread_id\":\"2\"}\n",
        "\n",
        "messages = graph.invoke({\"messages\":\"add 14 to it\"},config=config)\n",
        "for m in messages[\"messages\"]:\n",
        "  m.pretty_print()"
      ],
      "metadata": {
        "colab": {
          "base_uri": "https://localhost:8080/"
        },
        "id": "I0w8eUxu3aL1",
        "outputId": "07a6bc9d-229a-48ab-c029-4ddb2aba6932"
      },
      "execution_count": 21,
      "outputs": [
        {
          "output_type": "stream",
          "name": "stdout",
          "text": [
            "================================\u001b[1m Human Message \u001b[0m=================================\n",
            "\n",
            "add 14 to it\n",
            "==================================\u001b[1m Ai Message \u001b[0m==================================\n",
            "\n",
            "It seems like you are referring to a preceding number with \"it.\" Could you please provide the number you'd like to add 14 to?\n"
          ]
        }
      ]
    }
  ]
}